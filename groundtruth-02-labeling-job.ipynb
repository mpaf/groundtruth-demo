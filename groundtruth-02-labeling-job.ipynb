{
 "cells": [
  {
   "cell_type": "markdown",
   "id": "6e1b36ab-9e57-4b13-a85d-43b3d7a3cb6c",
   "metadata": {},
   "source": [
    "## Creating a Labeling Job"
   ]
  },
  {
   "cell_type": "markdown",
   "id": "d9053986-06f3-4462-be6a-b9bba46ab721",
   "metadata": {},
   "source": [
    "Using the locally generated manifest JSON-lines files, we can create a Labeling Job in Ground Truth. The labeling job must be assigned to a workteam and a worker's template can be provided."
   ]
  },
  {
   "cell_type": "code",
   "execution_count": null,
   "id": "bfe62c71-80b6-4107-b3f4-36040ad28dc2",
   "metadata": {},
   "outputs": [],
   "source": [
    "import sagemaker\n",
    "import time\n",
    "import boto3\n",
    "import json"
   ]
  },
  {
   "cell_type": "code",
   "execution_count": null,
   "id": "8f83c746-9e6f-4765-b3b9-633e77e01fc7",
   "metadata": {},
   "outputs": [],
   "source": [
    "sm_session = sagemaker.session.Session()\n",
    "region = sm_session.boto_region_name\n",
    "default_bucket = sm_session.default_bucket()\n",
    "role = sagemaker.get_execution_role()\n",
    "s3 = boto3.client(\"s3\")\n",
    "\n",
    "BUCKET = default_bucket\n",
    "PREFIX = \"groundtruth_demo\"\n",
    "ACCOUNT_ID = sm_session.account_id()"
   ]
  },
  {
   "cell_type": "markdown",
   "id": "d8b67aac-c7dd-43aa-8506-9d428b130ce9",
   "metadata": {},
   "source": [
    "### Util Functions"
   ]
  },
  {
   "cell_type": "code",
   "execution_count": null,
   "id": "dad6c7d5-b94a-426f-80ba-217263820e8f",
   "metadata": {},
   "outputs": [],
   "source": [
    "s3_resource = boto3.resource(\"s3\")\n",
    "sagemaker_client = boto3.client('sagemaker')\n",
    "\n",
    "# Util function to upload to S3\n",
    "def upload_s3(local_file, bucket, prefix):\n",
    "    s3.upload_file(local_file, bucket, \"{}/{}\".format(prefix, local_file))\n",
    "    s3_path = \"s3://{}/{}/{}\".format(bucket, prefix, local_file)\n",
    "    print(\"Uploading {} to {}\".format(local_file, s3_path))\n",
    "    return s3_path\n",
    "\n",
    "# Util function to read JSON from S3 path\n",
    "def print_json(bucket, key, N=3):\n",
    "    obj = s3_resource.Object(bucket, key)\n",
    "    json_text = obj.get()['Body'].read().decode('utf-8')\n",
    "    for line in json_text.splitlines()[0:N]:\n",
    "        print(json.dumps(json.loads(line), indent=4))\n",
    "        \n",
    "# Launch a labeling Job\n",
    "def launch_job(labeling_job_config):\n",
    "    \n",
    "    print(\"Launching job {}\".format(labeling_job_config['LabelingJobName']))\n",
    "    sagemaker_client.create_labeling_job(**labeling_job_config)\n",
    "    \n",
    "    status = \"InProgress\"\n",
    "\n",
    "    # We keep monitoring the Job Status\n",
    "    while(status == 'InProgress'):\n",
    "        job_status = sagemaker_client.describe_labeling_job(LabelingJobName=labeling_job_config['LabelingJobName'])\n",
    "        status = job_status['LabelingJobStatus']\n",
    "        print(status)\n",
    "        print(job_status['LabelCounters'])\n",
    "        time.sleep(30)"
   ]
  },
  {
   "cell_type": "markdown",
   "id": "45936ed9-6b6b-47d7-91ef-e72d770e0da2",
   "metadata": {
    "tags": []
   },
   "source": [
    "### Required Templates or Files\n",
    "\n",
    "We will need for the labeling job:\n",
    "\n",
    "- UI Template (SageMaker GroundTruth provided built-in, or custom)\n",
    "- Input Manifest (what are the images we will label, their location on S3)\n",
    "- Class Labels file (What are the labels we will use in our labeling task)\n",
    "\n",
    "#### Input Manifest\n",
    "\n",
    "Describes objects for annotation, potentially with annotations from previous labeling jobs.\n",
    "\n",
    "Let's upload a clean input manifest with only reference to the objects to be annotated"
   ]
  },
  {
   "cell_type": "code",
   "execution_count": null,
   "id": "b37a6ad3-3f92-4b38-b34d-780e4b1563de",
   "metadata": {},
   "outputs": [],
   "source": [
    "manifest_name = \"input.manifest\"\n",
    "input_manifest_path = upload_s3(manifest_name, BUCKET, PREFIX)"
   ]
  },
  {
   "cell_type": "markdown",
   "id": "83d4d6fc-60ae-4f81-81cb-8d8175cb19dc",
   "metadata": {},
   "source": [
    "#### UI Template for Workers\n",
    "\n",
    "UI follows the Liquid template language. Liquid is an open-source template language created by Shopify and written in Ruby.\n",
    "\n",
    "You can find more template UI samples to start from at:\n",
    "\n",
    "https://github.com/aws-samples/amazon-sagemaker-ground-truth-task-uis\n",
    "\n",
    "and\n",
    "\n",
    "https://github.com/aws-samples/amazon-a2i-sample-task-uis\n",
    "\n",
    "We will use a different template for each different type of labeling task."
   ]
  },
  {
   "cell_type": "markdown",
   "id": "7284d8fc-2fee-4439-b1dc-fffa0d162a7a",
   "metadata": {},
   "source": [
    "#### Class Labels File\n",
    "\n",
    "A JSON file uploaded to S3 that describes the list of label(s) used in the labeling job.\n",
    "\n",
    "E.g."
   ]
  },
  {
   "cell_type": "code",
   "execution_count": null,
   "id": "e5e92aa2-4dff-4a2c-a137-df75c70851ce",
   "metadata": {},
   "outputs": [],
   "source": [
    "CLASS_LIST = [\"Chicken\", \"Bird\"]\n",
    "json.dumps({\"labels\": [{\"label\": label} for label in CLASS_LIST]})"
   ]
  },
  {
   "cell_type": "markdown",
   "id": "ac97eacb-64bb-4cc0-9e57-26c2ae77a3c4",
   "metadata": {},
   "source": [
    "## Make sure Images Bucket has CORS Enabled\n",
    "\n",
    "If you create a job through the Ground Truth console, CORS is enabled by default. Earlier in 2020, widely used browsers like Chrome and Firefox changed their default behavior for rotating images based on image metadata, referred to as EXIF data. The web standards group W3C has decided that the ability to control rotation of images violates the web’s Same-origin Policy, as such to ensure human workers annotate your input images in a predictable orientation you must add a CORS header policy to the Amazon S3 buckets that contain your input images."
   ]
  },
  {
   "cell_type": "code",
   "execution_count": null,
   "id": "1bf3526f-0ae7-47a6-b789-cf5c67aaa432",
   "metadata": {},
   "outputs": [],
   "source": [
    "s3.put_bucket_cors(\n",
    "    Bucket=default_bucket,\n",
    "    CORSConfiguration={\n",
    "        'CORSRules': [\n",
    "            {\n",
    "                'ID': 'corsrulesgroundtruth',\n",
    "                'AllowedMethods': ['GET'],\n",
    "                'AllowedOrigins': ['*'],\n",
    "                'ExposeHeaders': ['Access-Control-Allow-Origin']\n",
    "            }\n",
    "        ]\n",
    "    }\n",
    ")"
   ]
  },
  {
   "cell_type": "markdown",
   "id": "10235e3e-d785-4bc3-9a0d-b6adef3eb1bd",
   "metadata": {},
   "source": [
    "### Create Labeling Job\n",
    "\n",
    "Let's start with the simplest example, a Classification job for images, whether they show a bird that is flying, or other. \n",
    "\n",
    "We decide the list of classes, and set a number of variables related to the job we're about to launch. We upload the classes to S3\n",
    "\n",
    "We also upload the template we are going to use in our labeling task."
   ]
  },
  {
   "cell_type": "code",
   "execution_count": null,
   "id": "15bfc52a-eb0c-41a0-a69c-c18df43f68af",
   "metadata": {},
   "outputs": [],
   "source": [
    "CLASS_LIST = [\"Flying\", \"Other\"]\n",
    "with open(\"class_labels.json\", \"w\") as f:\n",
    "    json.dump({\"labels\": [{\"label\": label} for label in CLASS_LIST]}, f)\n",
    "\n",
    "task_description = \"Does the picture depict a bird that is flying?\"\n",
    "task_keywords = [\"Image\", \"Classification\"]\n",
    "task_title = \"Please decide whether picture shows bird flying, or other\"\n",
    "job_name = \"ground-truth-class-demo-\" + str(int(time.time()))\n",
    "\n",
    "TEMPLATE='groundtruth-class-template.liquid'\n",
    "\n",
    "template_path = upload_s3(TEMPLATE, BUCKET, \"{}/{}\".format(PREFIX, job_name))\n",
    "labels_path = upload_s3(\"class_labels.json\", BUCKET, \"{}/{}\".format(PREFIX, job_name))"
   ]
  },
  {
   "cell_type": "markdown",
   "id": "dd64fac3-818b-447b-aaa7-c42859dbc793",
   "metadata": {},
   "source": [
    "We define the Lambda functions to prepare image for annotation, and to consolidate multiple worker annotations. These are provided by AWS (but can be customized).\n",
    "\n",
    "Refer to the AWS-provided function ARNs at:\n",
    "\n",
    "https://docs.aws.amazon.com/sagemaker/latest/APIReference/API_HumanTaskConfig.html\n",
    "\n",
    "And\n",
    "\n",
    "https://docs.aws.amazon.com/sagemaker/latest/APIReference/API_AnnotationConsolidationConfig.html\n",
    "\n",
    "We also select the type of workforce we want to use, for private workforce, refer to the ARN to the workforce in the account where it was created."
   ]
  },
  {
   "cell_type": "code",
   "execution_count": null,
   "id": "1b9119d0-7fe0-42fa-8262-07543175ecd5",
   "metadata": {},
   "outputs": [],
   "source": [
    "# Select Private Workforce\n",
    "TEAM_NAME = \"<add-your-created-team-name-here>\"\n",
    "private_workteam_arn = \"arn:aws:sagemaker:eu-central-1:{}:workteam/private-crowd/{}\".format(ACCOUNT_ID, TEAM_NAME)\n",
    "# Pre-labeling task Lambda function (AWS-provided)\n",
    "prehuman_arn = \"arn:aws:lambda:{}:{}:function:PRE-ImageMultiClass\".format(region, \"203001061592\")\n",
    "# Annotation consolidation Lambda (AWS-provided)\n",
    "acs_arn = \"arn:aws:lambda:{}:{}:function:ACS-ImageMultiClass\".format(region, \"203001061592\")"
   ]
  },
  {
   "cell_type": "markdown",
   "id": "9498db40-d04d-4cdf-9f02-58f5187cabbd",
   "metadata": {},
   "source": [
    "Now we create the labeling job definition"
   ]
  },
  {
   "cell_type": "code",
   "execution_count": null,
   "id": "f7c33255-1b5e-4dfd-b7da-5bebc6b26ef2",
   "metadata": {},
   "outputs": [],
   "source": [
    "labeling_job_config = {\n",
    "    \"InputConfig\": {\n",
    "        \"DataSource\": {\n",
    "            \"S3DataSource\": {\n",
    "                \"ManifestS3Uri\": input_manifest_path,\n",
    "            }\n",
    "        },\n",
    "        \"DataAttributes\": {\n",
    "            \"ContentClassifiers\": [\"FreeOfPersonallyIdentifiableInformation\", \"FreeOfAdultContent\"]\n",
    "        },\n",
    "    },\n",
    "    \"OutputConfig\": {\n",
    "        \"S3OutputPath\": \"s3://{}/{}/output/\".format(BUCKET, PREFIX),\n",
    "    },\n",
    "    \"HumanTaskConfig\": {\n",
    "        \"WorkteamArn\": private_workteam_arn,\n",
    "        \"PreHumanTaskLambdaArn\": prehuman_arn,\n",
    "        \"AnnotationConsolidationConfig\": {\n",
    "            \"AnnotationConsolidationLambdaArn\": acs_arn,\n",
    "        },\n",
    "        \"MaxConcurrentTaskCount\": 200,  # 200 images will be sent at a time to the workteam.\n",
    "        \"NumberOfHumanWorkersPerDataObject\": 1,  # We will obtain and consolidate x human annotations for each image.\n",
    "        \"TaskAvailabilityLifetimeInSeconds\": 21600,  # Your workteam has 6 hours to complete all pending tasks.\n",
    "        \"TaskDescription\": task_description,\n",
    "        \"TaskKeywords\": task_keywords,\n",
    "        \"TaskTimeLimitInSeconds\": 300,  # Each image must be labeled within 5 minutes.\n",
    "        \"TaskTitle\": task_title,\n",
    "        \"UiConfig\": {\n",
    "            \"UiTemplateS3Uri\": template_path,\n",
    "        },\n",
    "    },\n",
    "    \"LabelingJobName\": job_name,\n",
    "    \"RoleArn\": role,\n",
    "    \"LabelAttributeName\": job_name,\n",
    "    \"LabelCategoryConfigS3Uri\": labels_path,\n",
    "}"
   ]
  },
  {
   "cell_type": "markdown",
   "id": "b938ef1c-09d6-4184-9055-2e387ea7b11e",
   "metadata": {},
   "source": [
    "### Launch Classification Job with Private Workforce"
   ]
  },
  {
   "cell_type": "code",
   "execution_count": null,
   "id": "4bf60d8e-9fda-43bd-9155-0de7daec9b0d",
   "metadata": {},
   "outputs": [],
   "source": [
    "launch_job(labeling_job_config)"
   ]
  },
  {
   "cell_type": "markdown",
   "id": "9c8d4a38-f96e-4f1a-8766-ec24c9c27731",
   "metadata": {},
   "source": [
    "Let's inspect the output"
   ]
  },
  {
   "cell_type": "code",
   "execution_count": null,
   "id": "23b30afa-709c-48a7-b513-26ed78669641",
   "metadata": {},
   "outputs": [],
   "source": [
    "print_json(BUCKET, \"{}/output/{}/manifests/output/output.manifest\".format(PREFIX, job_name), N=10)"
   ]
  },
  {
   "cell_type": "markdown",
   "id": "3e3982b6-4c9f-4b09-a470-aa78c15a56d1",
   "metadata": {},
   "source": [
    "### Launch Object Detection Labeling Job with Private Workforce\n",
    "\n",
    "Let's now launch an OD job where we draw boxes around birds in images. We change some task parameters, as well as the template, and launch it"
   ]
  },
  {
   "cell_type": "code",
   "execution_count": null,
   "id": "159399bf-3169-4acc-a344-ce349554f482",
   "metadata": {},
   "outputs": [],
   "source": [
    "CLASS_LIST = [\"Bird\"]\n",
    "LABEL_FILE = \"od_labels.json\"\n",
    "TEMPLATE='groundtruth-od-template.liquid'\n",
    "\n",
    "with open(LABEL_FILE, \"w\") as f:\n",
    "    json.dump({\"labels\": [{\"label\": label} for label in CLASS_LIST]}, f)\n",
    "\n",
    "task_description = \"Draw a bounding box around birds in the picture\"\n",
    "task_keywords = [\"Image\", \"Object\", \"Detection\"]\n",
    "task_title = \"Bounding box around any birds\"\n",
    "job_name = \"ground-truth-od-demo-\" + str(int(time.time()))\n",
    "\n",
    "template_path = upload_s3(TEMPLATE, BUCKET, \"{}/{}\".format(PREFIX, job_name))\n",
    "labels_path = upload_s3(LABEL_FILE, BUCKET, \"{}/{}\".format(PREFIX, job_name))\n",
    "\n",
    "# New Lamda pre and post processing functions\n",
    "prehuman_arn = \"arn:aws:lambda:{}:{}:function:PRE-BoundingBox\".format(region, \"203001061592\")\n",
    "acs_arn = \"arn:aws:lambda:{}:{}:function:ACS-BoundingBox\".format(region, \"203001061592\")"
   ]
  },
  {
   "cell_type": "code",
   "execution_count": null,
   "id": "64492526-0ee4-4add-ba7d-2fd6776f86fe",
   "metadata": {},
   "outputs": [],
   "source": [
    "labeling_job_config['LabelingJobName'] = job_name\n",
    "labeling_job_config['LabelAttributeName'] = job_name\n",
    "labeling_job_config['LabelCategoryConfigS3Uri'] = labels_path\n",
    "labeling_job_config['HumanTaskConfig']['WorkteamArn'] = private_workteam_arn\n",
    "labeling_job_config['HumanTaskConfig']['TaskDescription'] = task_description\n",
    "labeling_job_config['HumanTaskConfig']['TaskTitle'] = task_title\n",
    "labeling_job_config['HumanTaskConfig']['TaskKeywords'] = task_keywords\n",
    "labeling_job_config['HumanTaskConfig']['NumberOfHumanWorkersPerDataObject'] = 1\n",
    "labeling_job_config['HumanTaskConfig']['PreHumanTaskLambdaArn'] = prehuman_arn\n",
    "labeling_job_config['HumanTaskConfig']['AnnotationConsolidationConfig']['AnnotationConsolidationLambdaArn'] = acs_arn\n",
    "labeling_job_config['HumanTaskConfig']['UiConfig']['UiTemplateS3Uri'] = template_path\n",
    "\n",
    "launch_job(labeling_job_config)"
   ]
  },
  {
   "cell_type": "markdown",
   "id": "98924188-c04e-4b4c-98d1-b8d9cfa7121d",
   "metadata": {},
   "source": [
    "Let's inspect output"
   ]
  },
  {
   "cell_type": "code",
   "execution_count": null,
   "id": "516580e5-45a5-41ff-9d4e-03d8df3aa892",
   "metadata": {
    "tags": []
   },
   "outputs": [],
   "source": [
    "print_json(BUCKET, \"{}/output/{}/manifests/output/output.manifest\".format(PREFIX, job_name), N=3)"
   ]
  },
  {
   "cell_type": "markdown",
   "id": "3e4d86bc-0fcf-4b65-8bac-37ea077cb7bd",
   "metadata": {},
   "source": [
    "### Launch Object Detection Labeling Job with Private Workforce - 2 Workers\n",
    "\n",
    "Let's take a look at annotation consolidation"
   ]
  },
  {
   "cell_type": "code",
   "execution_count": null,
   "id": "fbe2fde8-74f0-4aa9-9ca5-ee8e1a761768",
   "metadata": {},
   "outputs": [],
   "source": [
    "job_name = \"ground-truth-od-demo-2workers-\" + str(int(time.time()))\n",
    "\n",
    "labeling_job_config['LabelingJobName'] = job_name\n",
    "labeling_job_config['LabelAttributeName'] = job_name\n",
    "labeling_job_config['HumanTaskConfig']['NumberOfHumanWorkersPerDataObject'] = 2\n",
    "\n",
    "launch_job(labeling_job_config)"
   ]
  },
  {
   "cell_type": "code",
   "execution_count": null,
   "id": "74d19e1e-b057-40a1-9465-3695f97b62a3",
   "metadata": {
    "tags": []
   },
   "outputs": [],
   "source": [
    "#Inspect output\n",
    "print_json(BUCKET, \"{}/output/{}/manifests/output/output.manifest\".format(PREFIX, job_name), N=10)"
   ]
  },
  {
   "cell_type": "markdown",
   "id": "3ed5d650-f3f0-411e-8f04-2985850c3333",
   "metadata": {},
   "source": [
    "**Note** Since we have two workers labeling each object, we now have a calculated confidence score."
   ]
  },
  {
   "cell_type": "markdown",
   "id": "a0c9d4b9-5ce3-4036-904d-9257496815ac",
   "metadata": {
    "tags": []
   },
   "source": [
    "### Launch Object Detection Labeling Job with Public Workforce\n",
    "\n",
    "This uses Amazon Mechanical Turk to label our data. In addition to changing the workforce, we need to specify an additional price for each human annotator. There is a recommended list of prices for the different labeling tasks at: https://aws.amazon.com/sagemaker/data-labeling/pricing/\n",
    "\n",
    "For Object Detection, the suggested price is 3.6c ($) per labeler and data object. More complex labeling such as image segmentation is suggested to be priced at 84c per labeler, due to the increased manual work. Image classification is cheaper at 1.2c."
   ]
  },
  {
   "cell_type": "code",
   "execution_count": null,
   "id": "07698196-d1bc-47aa-80ca-af9ffb24e2f5",
   "metadata": {},
   "outputs": [],
   "source": [
    "# Public Workforce (Mechanical Turk) Arn\n",
    "public_workteam_arn = \"arn:aws:sagemaker:{}:394669845002:workteam/public-crowd/default\".format(region)\n",
    "job_name = \"ground-truth-od-demo-public-workforce\" + str(int(time.time()))\n",
    "\n",
    "labeling_job_config['HumanTaskConfig']['WorkteamArn'] = public_workteam_arn\n",
    "labeling_job_config['HumanTaskConfig']['PublicWorkforceTaskPrice'] = {\n",
    "    \"AmountInUsd\": {\n",
    "        \"Dollars\": 0,\n",
    "        \"Cents\": 3,\n",
    "        \"TenthFractionsOfACent\": 6,\n",
    "    }\n",
    "}\n",
    "# Let's set number of labelers per image to 2\n",
    "labeling_job_config['HumanTaskConfig']['NumberOfHumanWorkersPerDataObject'] = 2\n",
    "labeling_job_config['LabelingJobName'] = job_name\n",
    "\n",
    "launch_job(labeling_job_config)"
   ]
  },
  {
   "cell_type": "code",
   "execution_count": null,
   "id": "aab7f934-4b69-420b-b4f7-b83047f040ea",
   "metadata": {},
   "outputs": [],
   "source": [
    "#Inspect output\n",
    "print_json(BUCKET, \"{}/output/{}/manifests/output/output.manifest\".format(PREFIX, job_name), N=3)"
   ]
  },
  {
   "cell_type": "markdown",
   "id": "0f37f48c-66e9-4a65-bde9-40f41edab580",
   "metadata": {},
   "source": [
    "### Launch Image Segmentation Labeling Job with Private Workforce\n",
    "\n",
    "Now let's use another type of Labeling, namely pixel by pixel classification."
   ]
  },
  {
   "cell_type": "code",
   "execution_count": null,
   "id": "c409fbf4-5da3-4c19-b670-5adc9370a7bd",
   "metadata": {},
   "outputs": [],
   "source": [
    "CLASS_LIST = [\"Bird\", \"Background\", \"Tree\"]\n",
    "LABEL_FILE = \"seg_labels.json\"\n",
    "TEMPLATE='groundtruth-segmentation-template.liquid'\n",
    "\n",
    "with open(LABEL_FILE, \"w\") as f:\n",
    "    json.dump({\"labels\": [{\"label\": label} for label in CLASS_LIST]}, f)\n",
    "\n",
    "task_description = \"Create image segments according to available labels\"\n",
    "task_keywords = [\"Image\", \"Segmentation\"]\n",
    "task_title = \"Classify pixels according to labels\"\n",
    "job_name = \"ground-truth-seg-demo-\" + str(int(time.time()))\n",
    "\n",
    "template_path = upload_s3(TEMPLATE, BUCKET, \"{}/{}\".format(PREFIX, job_name))\n",
    "labels_path = upload_s3(LABEL_FILE, BUCKET, \"{}/{}\".format(PREFIX, job_name))\n",
    "\n",
    "# New Lamda pre and post processing functions\n",
    "prehuman_arn = \"arn:aws:lambda:{}:{}:function:PRE-SemanticSegmentation\".format(region, \"203001061592\")\n",
    "acs_arn = \"arn:aws:lambda:{}:{}:function:ACS-SemanticSegmentation\".format(region, \"203001061592\")\n",
    "\n",
    "labeling_job_config['LabelingJobName'] = job_name\n",
    "labeling_job_config['LabelAttributeName'] = job_name + '-ref'\n",
    "labeling_job_config['LabelCategoryConfigS3Uri'] = labels_path\n",
    "labeling_job_config['HumanTaskConfig']['WorkteamArn'] = private_workteam_arn\n",
    "try:\n",
    "    del(labeling_job_config['HumanTaskConfig']['PublicWorkforceTaskPrice']) # Remove price information since we're going to use private workforce\n",
    "except:\n",
    "    pass\n",
    "labeling_job_config['HumanTaskConfig']['TaskDescription'] = task_description\n",
    "labeling_job_config['HumanTaskConfig']['TaskKeywords'] = task_keywords\n",
    "labeling_job_config['HumanTaskConfig']['TaskTitle'] = task_title\n",
    "labeling_job_config['HumanTaskConfig']['NumberOfHumanWorkersPerDataObject'] = 1\n",
    "labeling_job_config['HumanTaskConfig']['PreHumanTaskLambdaArn'] = prehuman_arn\n",
    "labeling_job_config['HumanTaskConfig']['AnnotationConsolidationConfig']['AnnotationConsolidationLambdaArn'] = acs_arn\n",
    "labeling_job_config['HumanTaskConfig']['UiConfig']['UiTemplateS3Uri'] = template_path\n",
    "\n",
    "launch_job(labeling_job_config)"
   ]
  },
  {
   "cell_type": "code",
   "execution_count": null,
   "id": "9b0b34a7-2ec3-4a5d-8c05-23131d88b716",
   "metadata": {},
   "outputs": [],
   "source": [
    "#Inspect output\n",
    "print_json(BUCKET, \"{}/output/{}/manifests/output/output.manifest\".format(PREFIX, job_name), N=1)"
   ]
  },
  {
   "cell_type": "markdown",
   "id": "aea1c23c-ce58-482e-a9e9-ef2c2a527660",
   "metadata": {},
   "source": [
    "In a segmentation job, the output contains a reference to a generated PNG file of the same dimensions of the original image, with labels as pixel values."
   ]
  }
 ],
 "metadata": {
  "instance_type": "ml.t3.medium",
  "kernelspec": {
   "display_name": "Python 3 (Data Science 2.0)",
   "language": "python",
   "name": "python3__SAGEMAKER_INTERNAL__arn:aws:sagemaker:eu-central-1:936697816551:image/sagemaker-data-science-38"
  },
  "language_info": {
   "codemirror_mode": {
    "name": "ipython",
    "version": 3
   },
   "file_extension": ".py",
   "mimetype": "text/x-python",
   "name": "python",
   "nbconvert_exporter": "python",
   "pygments_lexer": "ipython3",
   "version": "3.8.13"
  }
 },
 "nbformat": 4,
 "nbformat_minor": 5
}
