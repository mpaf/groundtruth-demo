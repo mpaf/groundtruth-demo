{
 "cells": [
  {
   "cell_type": "code",
   "execution_count": null,
   "id": "4af64883-8769-4375-8c75-a7b23a7c097f",
   "metadata": {},
   "outputs": [],
   "source": [
    "import sagemaker\n",
    "import json\n",
    "import pandas as pd\n",
    "import boto3\n",
    "from PIL import Image, ImageDraw\n",
    "from io import BytesIO"
   ]
  },
  {
   "cell_type": "code",
   "execution_count": null,
   "id": "650468f1-fa8b-4773-8a7a-a8279425f240",
   "metadata": {},
   "outputs": [],
   "source": [
    "sm_session = sagemaker.session.Session()\n",
    "default_bucket = sm_session.default_bucket()\n",
    "role = sagemaker.get_execution_role()"
   ]
  },
  {
   "cell_type": "markdown",
   "id": "6e1e5e99-4131-4594-88fa-ff3ee7633fef",
   "metadata": {},
   "source": [
    "## Google's Open Images Dataset (v4)\n",
    "\n",
    "Google publishes annotated images for ML at https://storage.googleapis.com/openimages/web/download_v4.html\n",
    "\n",
    "Let's download the hierarchy as well as the annotations CSV file locally (not the full image dataset)."
   ]
  },
  {
   "cell_type": "code",
   "execution_count": null,
   "id": "435d1f57-40f6-4d79-95db-1c8527e7d3b9",
   "metadata": {},
   "outputs": [],
   "source": [
    "# Download and process the Open Images annotations.\n",
    "!wget https://storage.googleapis.com/openimages/2018_04/test/test-annotations-bbox.csv\n",
    "!wget https://storage.googleapis.com/openimages/2018_04/bbox_labels_600_hierarchy.json"
   ]
  },
  {
   "cell_type": "markdown",
   "id": "7e1b7ebc-4e7a-4300-815b-8792a76d4729",
   "metadata": {},
   "source": [
    "## Bird images selection and copying"
   ]
  },
  {
   "cell_type": "markdown",
   "id": "8ee6cb7a-96e3-4fbe-baa4-b13875df36a0",
   "metadata": {},
   "source": [
    "View the full hierarchy of images at: \n",
    "\n",
    "https://storage.googleapis.com/openimages/2018_04/bbox_labels_600_hierarchy_visualizer/circle.html\n",
    "\n",
    "Entity >> Animal >> Bird >> [Specie of Bird]\n"
   ]
  },
  {
   "cell_type": "code",
   "execution_count": null,
   "id": "4c6a92da-3624-407b-ba6d-fabc881ee70d",
   "metadata": {
    "tags": []
   },
   "outputs": [],
   "source": [
    "with open(\"bbox_labels_600_hierarchy.json\", \"r\") as f:\n",
    "    hierarchy = json.load(f)\n",
    "    \n",
    "hierarchy\n",
    "\n",
    "CLASS_NAME = \"Bird\"\n",
    "BIRD_ID = \"/m/015p6\"\n",
    "CLASS_NAME = \"Animal\"\n",
    "ANIMAL_ID = \"/m/0jbk\"\n",
    "N = 10 # How many images to take"
   ]
  },
  {
   "cell_type": "code",
   "execution_count": null,
   "id": "3f151639-4ad2-4c0a-aab2-102320192351",
   "metadata": {},
   "outputs": [],
   "source": [
    "entities = hierarchy['Subcategory']\n",
    "\n",
    "animal_index = next((index for (index, d) in enumerate(entities) if d[\"LabelName\"] == ANIMAL_ID), None)\n",
    "\n",
    "animals = entities[animal_index]['Subcategory']\n",
    "\n",
    "bird_index = next((index for (index, d) in enumerate(animals) if d[\"LabelName\"] == BIRD_ID), None)\n",
    "\n",
    "birds = animals[bird_index]['Subcategory']\n",
    "\n",
    "bird_labels = [label['LabelName'] for label in birds]"
   ]
  },
  {
   "cell_type": "code",
   "execution_count": null,
   "id": "e79bb10b-4674-4409-be6e-f67c11ccecaa",
   "metadata": {},
   "outputs": [],
   "source": [
    "images = pd.read_csv('./test-annotations-bbox.csv')\n",
    "\n",
    "birds = images[images['LabelName'].isin(bird_labels)]\n",
    "\n",
    "skip_these_images = [\"251d4c429f6f9c39\", \"065ad49f98157c8d\"]\n",
    "\n",
    "birds_clean = birds[~birds['ImageID'].isin(skip_these_images)]"
   ]
  },
  {
   "cell_type": "markdown",
   "id": "04815e93-f3cd-4a45-b5d7-478ad6ac25e3",
   "metadata": {},
   "source": [
    "### Copying bird images to own S3 bucket\n",
    "\n",
    "To be used with GrounTruth labelling jobs"
   ]
  },
  {
   "cell_type": "code",
   "execution_count": null,
   "id": "7d6c0512-8876-49e9-8412-2738fbe3b7b1",
   "metadata": {},
   "outputs": [],
   "source": [
    "s3 = boto3.client(\"s3\")\n",
    "\n",
    "unique_images = birds_clean.ImageID.unique()[0:N]\n",
    "\n",
    "for it, img_id in enumerate(unique_images):\n",
    "\n",
    "    copy_source = {\"Bucket\": \"open-images-dataset\", \"Key\": \"test/{}.jpg\".format(img_id)}\n",
    "    if it % 100 == 0:\n",
    "        print(\"Copying image {} / {}\".format(it, N))\n",
    "    s3.copy(copy_source, default_bucket, \"groundtruth_demo/images/{}.jpg\".format(img_id))\n"
   ]
  },
  {
   "cell_type": "markdown",
   "id": "f1537ca1-3c9f-46bb-8f40-2b3a8fa8a8ac",
   "metadata": {},
   "source": [
    "## Create Manifest"
   ]
  },
  {
   "cell_type": "markdown",
   "id": "7bbafa88-da65-427e-9c45-f3ac586ddd76",
   "metadata": {},
   "source": [
    "Let's create a file with the images we wish to annotate"
   ]
  },
  {
   "cell_type": "code",
   "execution_count": null,
   "id": "fd95ff75-0dd3-46da-b4f7-79b55d6d95d7",
   "metadata": {},
   "outputs": [],
   "source": [
    "# Create and upload the input manifest.\n",
    "manifest_name = \"input.manifest\"\n",
    "\n",
    "BUCKET = default_bucket\n",
    "PREFIX = \"groundtruth_demo/images\""
   ]
  },
  {
   "cell_type": "markdown",
   "id": "11330368-7826-447f-9a98-5c9ea16641dc",
   "metadata": {},
   "source": [
    "### Generate Manifest"
   ]
  },
  {
   "cell_type": "code",
   "execution_count": null,
   "id": "a4b88c0c-7183-46e1-9cf2-1968fdb66644",
   "metadata": {},
   "outputs": [],
   "source": [
    "with open(manifest_name, \"w\") as f:\n",
    "    # Let's take first N images\n",
    "    for it, img_id in enumerate(unique_images):\n",
    "        img_json = {}\n",
    "        img_path = \"s3://{}/{}/{}.jpg\".format(BUCKET, PREFIX, img_id)\n",
    "        img_json['source-ref'] = img_path\n",
    "        f.write(json.dumps(img_json)+'\\n')"
   ]
  },
  {
   "cell_type": "markdown",
   "id": "35077e73-c5fa-4897-a889-bdcd61c286fe",
   "metadata": {},
   "source": [
    "### Upload Manifest"
   ]
  },
  {
   "cell_type": "code",
   "execution_count": null,
   "id": "1cbbfc4a-b5f4-4df1-82d7-7ac40b36194e",
   "metadata": {},
   "outputs": [],
   "source": [
    "PREFIX = \"groundtruth_demo\"\n",
    "s3.upload_file(manifest_name, BUCKET, \"{}/{}\".format(PREFIX, manifest_name))\n",
    "print(\"Uploaded manifest to s3://{}/{}/{}\".format(BUCKET, PREFIX, manifest_name))"
   ]
  },
  {
   "cell_type": "markdown",
   "id": "4caa982f-e877-492f-bd08-59268eccdfab",
   "metadata": {
    "tags": []
   },
   "source": [
    "## Create Manifest with Bounding Boxes\n",
    "\n",
    "First let's see if we can draw and calculate bounding boxes accurately with PIL image library\n",
    "\n",
    "### Verify size conversion"
   ]
  },
  {
   "cell_type": "code",
   "execution_count": null,
   "id": "64f0d486-779f-42ae-9992-b80def8a24c8",
   "metadata": {
    "tags": []
   },
   "outputs": [],
   "source": [
    "# Let's get a list of unique img IDs from our list of clean images with bounding boxes\n",
    "unique_images = birds_clean.ImageID.unique()\n",
    "\n",
    "#Take first image, load into memory, and calculate width x height\n",
    "img_id = unique_images[10]\n",
    "image_bytes = s3.get_object(Bucket=\"open-images-dataset\", Key=\"test/{}.jpg\".format(img_id))['Body'].read()\n",
    "img = Image.open(BytesIO(image_bytes))\n",
    "width, height = img.size\n",
    "\n",
    "#Get all bounding boxes defined for this image\n",
    "bboxes = birds_clean.loc[birds_clean['ImageID'] == img_id][['XMin', 'XMax', 'YMin', 'YMax']]\n",
    "\n",
    "#Now for each bounding box draw a rectangle, multiplying the normalised X and Y Min and Max values by width and height\n",
    "for index, bbox in bboxes.iterrows():\n",
    "    draw = ImageDraw.Draw(img)\n",
    "    draw.rectangle(((bbox.XMin*width, bbox.YMin*height), (bbox.XMax*width, bbox.YMax*height)), outline=\"red\")\n",
    "\n",
    "#And display image\n",
    "img"
   ]
  },
  {
   "cell_type": "markdown",
   "id": "b33b6408-c1d0-4352-b3b9-39affe10b8d3",
   "metadata": {
    "tags": []
   },
   "source": [
    "### Generate Annotated Manifest\n",
    "\n",
    "Now let's do this for all images and generate the Ground Truth manifest"
   ]
  },
  {
   "cell_type": "code",
   "execution_count": null,
   "id": "e9638476-7bd1-4522-8599-f98b506db9cb",
   "metadata": {
    "tags": []
   },
   "outputs": [],
   "source": [
    "# Create and upload the input manifest.\n",
    "manifest_name = \"annotated_input.manifest\"\n",
    "\n",
    "BUCKET = default_bucket\n",
    "PREFIX = \"groundtruth_demo/images\"\n",
    "LABELING_JOB_NAME = \"labeling-job-name\"\n",
    "\n",
    "with open(manifest_name, \"w\") as f:\n",
    "    \n",
    "    # Let's take first N images\n",
    "    N = 10\n",
    "    \n",
    "    for it, img_id in enumerate(unique_images[0:N]):\n",
    "        \n",
    "        img_json = {}\n",
    "        \n",
    "        bboxes = birds_clean.loc[birds_clean['ImageID'] == img_id][['XMin', 'XMax', 'YMin', 'YMax']]\n",
    "        img_path = \"s3://{}/{}/{}.jpg\".format(BUCKET, PREFIX, img_id)\n",
    "        image_bytes = s3.get_object(Bucket=BUCKET, Key=\"{}/{}.jpg\".format(PREFIX, img_id))['Body'].read()\n",
    "        img = Image.open(BytesIO(image_bytes))\n",
    "        width, height = img.size\n",
    "        img_json['source-ref'] = img_path\n",
    "        img_json[LABELING_JOB_NAME] = {}\n",
    "        img_json[LABELING_JOB_NAME+'-metadata'] = {}\n",
    "        img_json[LABELING_JOB_NAME+'-metadata']['objects'] = []\n",
    "        img_json[LABELING_JOB_NAME]['image_size'] = [{\"width\": width, \"height\": height, \"depth\": 3}]\n",
    "        img_json[LABELING_JOB_NAME]['annotations'] = []\n",
    "        for it, bbox in bboxes.iterrows():\n",
    "            img_json[LABELING_JOB_NAME]['annotations'].append(\n",
    "                {\"class_id\": 0,\n",
    "                 \"top\": round(bbox.YMin * height),\n",
    "                 \"left\": round(bbox.XMin * width),\n",
    "                 \"height\": round((bbox.YMax-bbox.YMin) * height),\n",
    "                 \"width\": round((bbox.XMax - bbox.XMin) * width),\n",
    "                }\n",
    "            )\n",
    "            img_json[LABELING_JOB_NAME+'-metadata']['objects'].append(\n",
    "                {\"confidence\": 0}\n",
    "            )\n",
    "        img_json[LABELING_JOB_NAME+'-metadata'][\"class-map\"] = {}\n",
    "        img_json[LABELING_JOB_NAME+'-metadata'][\"class-map\"][\"0\"] = \"bird\"\n",
    "        img_json[LABELING_JOB_NAME+'-metadata'][\"type\"] = \"groundtruth/object-detection\"\n",
    "\n",
    "        f.write(json.dumps(img_json)+'\\n')"
   ]
  },
  {
   "cell_type": "markdown",
   "id": "3410ad7e-a08b-4047-b493-dc6aeeff30cb",
   "metadata": {},
   "source": [
    "### Upload Manifest"
   ]
  },
  {
   "cell_type": "code",
   "execution_count": null,
   "id": "c865609c-7d99-42c8-8f5a-fb0c2bc98719",
   "metadata": {},
   "outputs": [],
   "source": [
    "#Upload manifest to S3\n",
    "s3.upload_file(manifest_name, default_bucket, \"groundtruth_demo/{}\".format(manifest_name))"
   ]
  },
  {
   "cell_type": "markdown",
   "id": "962ca934-b99e-42a4-aeb7-fc0a1deb4fff",
   "metadata": {},
   "source": [
    "## Inspect Manifests\n",
    "\n",
    "Install JQ and inspect manifest file"
   ]
  },
  {
   "cell_type": "code",
   "execution_count": null,
   "id": "7758a7b2-c170-42a8-b032-892b20b3e86c",
   "metadata": {},
   "outputs": [],
   "source": [
    "%%capture\n",
    "# Inspect manifest file\n",
    "!apt-get update\n",
    "!apt-get -y install jq\n"
   ]
  },
  {
   "cell_type": "code",
   "execution_count": null,
   "id": "4c595d67-f0e5-47dd-91fd-b20fc1b3e82d",
   "metadata": {},
   "outputs": [],
   "source": [
    "#manifest_name = 'input.manifest'\n",
    "manifest_name = 'annotated_input.manifest'\n",
    "!head {manifest_name} -n 1 | jq"
   ]
  }
 ],
 "metadata": {
  "instance_type": "ml.t3.medium",
  "kernelspec": {
   "display_name": "Python 3 (Data Science 2.0)",
   "language": "python",
   "name": "python3__SAGEMAKER_INTERNAL__arn:aws:sagemaker:eu-central-1:936697816551:image/sagemaker-data-science-38"
  },
  "language_info": {
   "codemirror_mode": {
    "name": "ipython",
    "version": 3
   },
   "file_extension": ".py",
   "mimetype": "text/x-python",
   "name": "python",
   "nbconvert_exporter": "python",
   "pygments_lexer": "ipython3",
   "version": "3.8.13"
  }
 },
 "nbformat": 4,
 "nbformat_minor": 5
}
