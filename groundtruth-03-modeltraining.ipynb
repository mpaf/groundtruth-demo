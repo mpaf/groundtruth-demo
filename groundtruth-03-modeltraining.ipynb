{
 "cells": [
  {
   "cell_type": "markdown",
   "id": "3b68ef0f-77a0-4ec8-9ba6-2bcfdf59aea8",
   "metadata": {},
   "source": [
    "# Train an OD Model using our Ground Truth Labels\n",
    "\n",
    "We have a labeled dataset, and we will now use it to train an object detection model. We'll use the augmented manifest format used in the output of one of our OD labeling jobs.import sagemaker\n"
   ]
  },
  {
   "cell_type": "code",
   "execution_count": null,
   "id": "69fb83d8-5263-404d-96d2-26566aa78061",
   "metadata": {},
   "outputs": [],
   "source": [
    "import sagemaker\n",
    "import boto3\n",
    "import numpy as np\n",
    "import json\n",
    "from PIL import Image, ImageDraw\n",
    "from io import BytesIO\n",
    "\n",
    "sm_session = sagemaker.session.Session()\n",
    "sagemaker_client = boto3.client('sagemaker')\n",
    "s3_client = boto3.client(\"s3\")\n",
    "role = sagemaker.get_execution_role()\n",
    "region = sm_session.boto_region_name\n",
    "BUCKET = sm_session.default_bucket()\n",
    "PREFIX = \"groundtruth_demo/training\""
   ]
  },
  {
   "cell_type": "markdown",
   "id": "341a0adb-4285-41b6-9c26-656bb1deb022",
   "metadata": {},
   "source": [
    "## Download Output Manifest"
   ]
  },
  {
   "cell_type": "code",
   "execution_count": null,
   "id": "381b6b71-a95d-4a66-94d7-a93ed90d05f6",
   "metadata": {},
   "outputs": [],
   "source": [
    "job_name = \"ground-truth-od-demo-1660034162\"\n",
    "\n",
    "job_desc = sagemaker_client.describe_labeling_job(LabelingJobName=job_name)\n",
    "\n",
    "output_manifest = job_desc['LabelingJobOutput']['OutputDatasetS3Uri']"
   ]
  },
  {
   "cell_type": "markdown",
   "id": "338565c1-edc6-4926-837c-5bdee1fd97cf",
   "metadata": {},
   "source": [
    "We install the command-line utility jq for displaying JSON and download the labeling job's Output manifest"
   ]
  },
  {
   "cell_type": "code",
   "execution_count": null,
   "id": "067f505e-2914-45e7-9d6b-b3cd0d74ac23",
   "metadata": {},
   "outputs": [],
   "source": [
    "%%capture\n",
    "!apt-get update\n",
    "!apt-get install jq -y\n",
    "!aws s3 cp {output_manifest} ."
   ]
  },
  {
   "cell_type": "markdown",
   "id": "a6d4cf05-f893-4a1e-92eb-65fdafdeec78",
   "metadata": {},
   "source": [
    "Let's have a look at the manifest"
   ]
  },
  {
   "cell_type": "code",
   "execution_count": null,
   "id": "63948048-e187-4e94-9db8-e9b2466425e7",
   "metadata": {},
   "outputs": [],
   "source": [
    "!cat 'output.manifest' | jq ."
   ]
  },
  {
   "cell_type": "markdown",
   "id": "6d33ba8f-f915-4a5d-b500-0f9aee1ff9dc",
   "metadata": {},
   "source": [
    "## Splitting Data Into Training and Validation sets\n",
    "\n",
    "Our output manifest is in JSON Lines format, meaning each line is a valid JSON object representing our labels for a particular image"
   ]
  },
  {
   "cell_type": "code",
   "execution_count": null,
   "id": "07231ea5-2101-44e7-892b-989c8d39982a",
   "metadata": {},
   "outputs": [],
   "source": [
    "with open(\"output.manifest\", \"r\") as f:\n",
    "    output = [json.loads(line) for line in f.readlines()]\n",
    "\n",
    "# Shuffle output in place.\n",
    "np.random.shuffle(output)\n",
    "\n",
    "dataset_size = len(output)\n",
    "train_test_split_index = round(dataset_size * 0.8)\n",
    "\n",
    "train_data = output[:train_test_split_index]\n",
    "validation_data = output[train_test_split_index:]\n",
    "\n",
    "num_training_samples = 0\n",
    "num_val_samples = 0\n",
    "\n",
    "with open(\"train.manifest\", \"w\") as f:\n",
    "    for line in train_data:\n",
    "        f.write(json.dumps(line))\n",
    "        f.write(\"\\n\")\n",
    "        num_training_samples += 1\n",
    "\n",
    "with open(\"validation.manifest\", \"w\") as f:\n",
    "    for line in validation_data:\n",
    "        f.write(json.dumps(line))\n",
    "        f.write(\"\\n\")\n",
    "        num_val_samples += 1\n",
    "        \n",
    "print(\"Split the data into {} training and {} validation samples\".format(num_training_samples, num_val_samples)) "
   ]
  },
  {
   "cell_type": "markdown",
   "id": "54da38cb-3cc2-4277-8740-eda4d18cb40b",
   "metadata": {},
   "source": [
    "## Upload training and validation data to S3\n",
    "\n",
    "Let's upload our training data to S3"
   ]
  },
  {
   "cell_type": "code",
   "execution_count": null,
   "id": "370e41ac-e42b-484f-bd40-4ac486b068f8",
   "metadata": {},
   "outputs": [],
   "source": [
    "!aws s3 cp train.manifest s3://{BUCKET}/{PREFIX}/train.manifest\n",
    "!aws s3 cp validation.manifest s3://{BUCKET}/{PREFIX}/validation.manifest"
   ]
  },
  {
   "cell_type": "markdown",
   "id": "7fc98f50-19dc-4947-97a6-c718712d8691",
   "metadata": {},
   "source": [
    "## Setup Training Job with SageMaker SDK"
   ]
  },
  {
   "cell_type": "code",
   "execution_count": null,
   "id": "39416204-de72-4ac3-8e0f-105b430e31dc",
   "metadata": {},
   "outputs": [],
   "source": [
    "TRAINING_OUTPUT = \"s3://{}/{}/output\".format(BUCKET, PREFIX)\n",
    "\n",
    "training_image = sagemaker.image_uris.retrieve(\n",
    "    region=region, framework=\"object-detection\", version=\"1\"\n",
    ")\n",
    "print(\"Training with image {}\".format(training_image))\n",
    "\n",
    "od_model = sagemaker.estimator.Estimator(\n",
    "    training_image,\n",
    "    role,\n",
    "    instance_count=1,\n",
    "    instance_type=\"ml.p3.2xlarge\",\n",
    "    volume_size=50,\n",
    "    max_run=36000,\n",
    "    input_mode=\"Pipe\",\n",
    "    output_path=TRAINING_OUTPUT,\n",
    "    sagemaker_session=sm_session,\n",
    ")\n",
    "\n",
    "od_model.set_hyperparameters(\n",
    "    base_network=\"resnet-50\",\n",
    "    use_pretrained_model=1,\n",
    "    num_classes=1,\n",
    "    mini_batch_size=1,\n",
    "    epochs=30,\n",
    "    learning_rate=0.001,\n",
    "    lr_scheduler_step=\"33,67\",\n",
    "    lr_scheduler_factor=0.1,\n",
    "    optimizer=\"sgd\",\n",
    "    momentum=0.9,\n",
    "    weight_decay=0.0005,\n",
    "    overlap_threshold=0.5,\n",
    "    nms_threshold=0.45,\n",
    "    image_shape=300,\n",
    "    label_width=350,\n",
    "    num_training_samples=str(num_training_samples),\n",
    ")"
   ]
  },
  {
   "cell_type": "markdown",
   "id": "4bc030af-2707-467a-97bb-492c3f3be268",
   "metadata": {},
   "source": [
    "## Setup Training Job Inputs\n",
    "\n",
    "Let's find the data attribute name which has our labels - this was configured to be the same as the training job name. If not, find it from the output manifest file"
   ]
  },
  {
   "cell_type": "code",
   "execution_count": null,
   "id": "b2b7a77c-b7de-4fa4-b17b-86307bae5511",
   "metadata": {},
   "outputs": [],
   "source": [
    "s3_train_data = \"s3://{}/{}/train.manifest\".format(BUCKET, PREFIX)\n",
    "s3_validation_data = \"s3://{}/{}/validation.manifest\".format(BUCKET, PREFIX)\n",
    "\n",
    "train_data = sagemaker.inputs.TrainingInput(\n",
    "    s3_train_data,\n",
    "    distribution=\"FullyReplicated\",\n",
    "    content_type=\"application/x-recordio\",\n",
    "    s3_data_type=\"AugmentedManifestFile\",\n",
    "    attribute_names=[\"source-ref\", job_name],\n",
    "    record_wrapping=\"RecordIO\",\n",
    ")\n",
    "validation_data = sagemaker.inputs.TrainingInput(\n",
    "    s3_validation_data,\n",
    "    distribution=\"FullyReplicated\",\n",
    "    content_type=\"application/x-recordio\",\n",
    "    s3_data_type=\"AugmentedManifestFile\",\n",
    "    attribute_names=[\"source-ref\", job_name],\n",
    "    record_wrapping=\"RecordIO\",\n",
    ")\n",
    "data_channels = {\"train\": train_data, \"validation\": validation_data}"
   ]
  },
  {
   "cell_type": "markdown",
   "id": "6b182b6b-c1af-4d30-92f0-83062f36ea13",
   "metadata": {},
   "source": [
    "## Launch Training Job"
   ]
  },
  {
   "cell_type": "code",
   "execution_count": null,
   "id": "7a63a96b-9117-40da-98ad-757b1cb2fb70",
   "metadata": {},
   "outputs": [],
   "source": [
    "%%time\n",
    "od_model.fit(inputs=data_channels, logs=True)"
   ]
  },
  {
   "cell_type": "markdown",
   "id": "8fda8453-3863-429b-925d-be95f8dd7fc1",
   "metadata": {},
   "source": [
    "## Deploy Model"
   ]
  },
  {
   "cell_type": "code",
   "execution_count": null,
   "id": "333b0c2d-0c4f-4850-b7a5-6299298c549d",
   "metadata": {},
   "outputs": [],
   "source": [
    "%%time\n",
    "object_detector = od_model.deploy(initial_instance_count=1, instance_type=\"ml.m4.xlarge\")\n",
    "endpoint_name = object_detector.endpoint_name"
   ]
  },
  {
   "cell_type": "markdown",
   "id": "800b63f3-443e-4a7a-84f5-5e8930c1078e",
   "metadata": {},
   "source": [
    "## Generate Predictions"
   ]
  },
  {
   "cell_type": "code",
   "execution_count": null,
   "id": "9d45e746-cc53-48be-ab4c-2ed582267b78",
   "metadata": {},
   "outputs": [],
   "source": [
    "# Take an unseen image, i.e. an image not seen during training\n",
    "test_img_id = \"12354d7c2e6dcf4b\"\n",
    "image_bytes = s3_client.get_object(Bucket=\"open-images-dataset\", Key=\"test/{}.jpg\".format(test_img_id))['Body'].read()"
   ]
  },
  {
   "cell_type": "code",
   "execution_count": null,
   "id": "ff4b10e1-c233-40ef-9673-eca8c3e222ee",
   "metadata": {},
   "outputs": [],
   "source": [
    "response = object_detector.predict(image_bytes, initial_args={'ContentType': 'application/x-image'})"
   ]
  },
  {
   "cell_type": "code",
   "execution_count": null,
   "id": "b9882c5f-334d-4fa8-a994-942a55f43756",
   "metadata": {},
   "outputs": [],
   "source": [
    "predictions = json.loads(response)['prediction']\n",
    "# sort predictions by Confidence score\n",
    "sorted_predictions = sorted(predictions, key = lambda x: x[1], reverse = True)"
   ]
  },
  {
   "cell_type": "code",
   "execution_count": null,
   "id": "54469655-5bda-440f-8c40-791e5dfb0980",
   "metadata": {},
   "outputs": [],
   "source": [
    "img = Image.open(BytesIO(image_bytes))\n",
    "width, height = img.size\n",
    "draw = ImageDraw.Draw(img)\n",
    "draw.rectangle(((sorted_predictions[0][2]*width, sorted_predictions[0][3]*height), (sorted_predictions[0][4]*width, sorted_predictions[0][5]*height)), outline=\"red\")"
   ]
  },
  {
   "cell_type": "code",
   "execution_count": null,
   "id": "ed356731-786a-4ce7-b421-012faa59d9ff",
   "metadata": {},
   "outputs": [],
   "source": [
    "img"
   ]
  },
  {
   "cell_type": "markdown",
   "id": "7465f7a3-ed6f-433a-b11b-6d34c4ab7b55",
   "metadata": {},
   "source": [
    "## Clean Endpoint\n",
    "\n",
    "To stop incurring cost"
   ]
  },
  {
   "cell_type": "code",
   "execution_count": null,
   "id": "ad86085e-ec01-4149-aa33-281ccf5072f8",
   "metadata": {},
   "outputs": [],
   "source": [
    "object_detector.delete_endpoint()"
   ]
  }
 ],
 "metadata": {
  "instance_type": "ml.t3.medium",
  "kernelspec": {
   "display_name": "Python 3 (Data Science 2.0)",
   "language": "python",
   "name": "python3__SAGEMAKER_INTERNAL__arn:aws:sagemaker:eu-central-1:936697816551:image/sagemaker-data-science-38"
  },
  "language_info": {
   "codemirror_mode": {
    "name": "ipython",
    "version": 3
   },
   "file_extension": ".py",
   "mimetype": "text/x-python",
   "name": "python",
   "nbconvert_exporter": "python",
   "pygments_lexer": "ipython3",
   "version": "3.8.13"
  }
 },
 "nbformat": 4,
 "nbformat_minor": 5
}
